{
  "nbformat": 4,
  "nbformat_minor": 0,
  "metadata": {
    "colab": {
      "provenance": []
    },
    "kernelspec": {
      "name": "python3",
      "display_name": "Python 3"
    },
    "language_info": {
      "name": "python"
    }
  },
  "cells": [
    {
      "cell_type": "code",
      "execution_count": null,
      "metadata": {
        "id": "hVYnL4rfJv8m"
      },
      "outputs": [],
      "source": [
        "import gensim.downloader as api"
      ]
    },
    {
      "cell_type": "code",
      "source": [
        "glove_model = api.load(\"glove-wiki-gigaword-50\")"
      ],
      "metadata": {
        "colab": {
          "base_uri": "https://localhost:8080/"
        },
        "id": "Oll5og7KJ2AU",
        "outputId": "5a3e5e07-3898-4093-e2a4-4938be1667e7"
      },
      "execution_count": null,
      "outputs": [
        {
          "output_type": "stream",
          "name": "stdout",
          "text": [
            "[==================================================] 100.0% 66.0/66.0MB downloaded\n"
          ]
        }
      ]
    },
    {
      "cell_type": "code",
      "source": [
        "king_vec = glove_model[\"king\"]\n",
        "print(king_vec)"
      ],
      "metadata": {
        "colab": {
          "base_uri": "https://localhost:8080/"
        },
        "id": "cPfVACffKh5g",
        "outputId": "06f78ee1-0259-4b8d-8561-17fb2a80e33c"
      },
      "execution_count": null,
      "outputs": [
        {
          "output_type": "stream",
          "name": "stdout",
          "text": [
            "[ 0.50451   0.68607  -0.59517  -0.022801  0.60046  -0.13498  -0.08813\n",
            "  0.47377  -0.61798  -0.31012  -0.076666  1.493    -0.034189 -0.98173\n",
            "  0.68229   0.81722  -0.51874  -0.31503  -0.55809   0.66421   0.1961\n",
            " -0.13495  -0.11476  -0.30344   0.41177  -2.223    -1.0756   -1.0783\n",
            " -0.34354   0.33505   1.9927   -0.04234  -0.64319   0.71125   0.49159\n",
            "  0.16754   0.34344  -0.25663  -0.8523    0.1661    0.40102   1.1685\n",
            " -1.0137   -0.21585  -0.15155   0.78321  -0.91241  -1.6106   -0.64426\n",
            " -0.51042 ]\n"
          ]
        }
      ]
    },
    {
      "cell_type": "code",
      "source": [
        "queen_vec = glove_model[\"queen\"]\n",
        "print(queen_vec)"
      ],
      "metadata": {
        "colab": {
          "base_uri": "https://localhost:8080/"
        },
        "id": "TtxcbJx9LCKc",
        "outputId": "516c4c9b-780f-479b-b66b-db42a1136c93"
      },
      "execution_count": null,
      "outputs": [
        {
          "output_type": "stream",
          "name": "stdout",
          "text": [
            "[ 0.37854    1.8233    -1.2648    -0.1043     0.35829    0.60029\n",
            " -0.17538    0.83767   -0.056798  -0.75795    0.22681    0.98587\n",
            "  0.60587   -0.31419    0.28877    0.56013   -0.77456    0.071421\n",
            " -0.5741     0.21342    0.57674    0.3868    -0.12574    0.28012\n",
            "  0.28135   -1.8053    -1.0421    -0.19255   -0.55375   -0.054526\n",
            "  1.5574     0.39296   -0.2475     0.34251    0.45365    0.16237\n",
            "  0.52464   -0.070272  -0.83744   -1.0326     0.45946    0.25302\n",
            " -0.17837   -0.73398   -0.20025    0.2347    -0.56095   -2.2839\n",
            "  0.0092753 -0.60284  ]\n"
          ]
        }
      ]
    },
    {
      "cell_type": "code",
      "source": [
        "man_vector = glove_model[\"man\"]\n",
        "print(man_vector)"
      ],
      "metadata": {
        "colab": {
          "base_uri": "https://localhost:8080/"
        },
        "id": "3tfAXbUVLKKM",
        "outputId": "2fb2d702-5f61-497d-fe25-8bf3493d683c"
      },
      "execution_count": null,
      "outputs": [
        {
          "output_type": "stream",
          "name": "stdout",
          "text": [
            "[-0.094386  0.43007  -0.17224  -0.45529   1.6447    0.40335  -0.37263\n",
            "  0.25071  -0.10588   0.10778  -0.10848   0.15181  -0.65396   0.55054\n",
            "  0.59591  -0.46278   0.11847   0.64448  -0.70948   0.23947  -0.82905\n",
            "  1.272     0.033021  0.2935    0.3911   -2.8094   -0.70745   0.4106\n",
            "  0.3894   -0.2913    2.6124   -0.34576  -0.16832   0.25154   0.31216\n",
            "  0.31639   0.12539  -0.012646  0.22297  -0.56585  -0.086264  0.62549\n",
            " -0.0576    0.29375   0.66005  -0.53115  -0.48233  -0.97925   0.53135\n",
            " -0.11725 ]\n"
          ]
        }
      ]
    },
    {
      "cell_type": "code",
      "source": [
        "female_vec = glove_model[\"female\"]\n",
        "print(female_vec)"
      ],
      "metadata": {
        "colab": {
          "base_uri": "https://localhost:8080/"
        },
        "id": "RQnUeOdWLUVq",
        "outputId": "202af4dc-ffaf-4572-8020-f58f8619d6bd"
      },
      "execution_count": null,
      "outputs": [
        {
          "output_type": "stream",
          "name": "stdout",
          "text": [
            "[-0.31575   0.74461  -0.11566  -0.30607   1.524     1.9137   -0.392\n",
            " -0.67556  -0.1051   -0.17457   1.0692   -0.68617   1.2178    1.0286\n",
            "  0.35633  -0.40842  -0.34413   0.67533  -0.5443   -0.21132  -0.61226\n",
            "  0.95619   0.43981   0.59639   0.02958  -1.1064   -0.48996  -0.82416\n",
            " -0.97248  -0.059594  2.396     0.74269  -0.16044  -0.69316   0.55892\n",
            "  0.22892   0.013605 -0.44858  -0.52965  -0.96282  -0.54444   0.18284\n",
            "  0.16551   0.33446   0.53432  -1.4824   -0.34574  -0.82834   0.10107\n",
            "  0.024414]\n"
          ]
        }
      ]
    },
    {
      "cell_type": "code",
      "source": [
        "king_vec - man_vector"
      ],
      "metadata": {
        "colab": {
          "base_uri": "https://localhost:8080/"
        },
        "id": "Cu4HUmW6Lgb7",
        "outputId": "1d7b07bd-53f8-4019-9b0e-50812648efeb"
      },
      "execution_count": null,
      "outputs": [
        {
          "output_type": "execute_result",
          "data": {
            "text/plain": [
              "array([ 0.59889597,  0.256     , -0.42293   ,  0.43248898, -1.04424   ,\n",
              "       -0.53832996,  0.2845    ,  0.22305998, -0.5121    , -0.4179    ,\n",
              "        0.031814  ,  1.34119   ,  0.619771  , -1.53227   ,  0.08638   ,\n",
              "        1.28      , -0.63721   , -0.95950997,  0.15139002,  0.42474002,\n",
              "        1.0251501 , -1.40695   , -0.147781  , -0.59694004,  0.02067   ,\n",
              "        0.58640003, -0.36815006, -1.4889    , -0.73294   ,  0.62635   ,\n",
              "       -0.6197001 ,  0.30341998, -0.47487003,  0.45971   ,  0.17943001,\n",
              "       -0.14885001,  0.21805   , -0.243984  , -1.0752699 ,  0.73195004,\n",
              "        0.487284  ,  0.54300994, -0.9561    , -0.5096    , -0.81159997,\n",
              "        1.3143599 , -0.43008003, -0.63135   , -1.1756101 , -0.39317003],\n",
              "      dtype=float32)"
            ]
          },
          "metadata": {},
          "execution_count": 12
        }
      ]
    },
    {
      "cell_type": "code",
      "source": [
        "glove_model.most_similar(\"car\")"
      ],
      "metadata": {
        "colab": {
          "base_uri": "https://localhost:8080/"
        },
        "id": "GNlqsUE9Lr2c",
        "outputId": "bb2d717b-2ca6-436a-93e0-2b5ae86f11e0"
      },
      "execution_count": null,
      "outputs": [
        {
          "output_type": "execute_result",
          "data": {
            "text/plain": [
              "[('truck', 0.92085862159729),\n",
              " ('cars', 0.8870189785957336),\n",
              " ('vehicle', 0.8833683729171753),\n",
              " ('driver', 0.8464019298553467),\n",
              " ('driving', 0.8384189009666443),\n",
              " ('bus', 0.8210511803627014),\n",
              " ('vehicles', 0.8174992799758911),\n",
              " ('parked', 0.7902189493179321),\n",
              " ('motorcycle', 0.7866503000259399),\n",
              " ('taxi', 0.7833929657936096)]"
            ]
          },
          "metadata": {},
          "execution_count": 13
        }
      ]
    },
    {
      "cell_type": "code",
      "source": [
        "glove_model.most_similar(\"computer\")"
      ],
      "metadata": {
        "colab": {
          "base_uri": "https://localhost:8080/"
        },
        "id": "K_S7xok6L4Up",
        "outputId": "1ba7fd9d-cef9-4a85-b375-218c04497d2d"
      },
      "execution_count": null,
      "outputs": [
        {
          "output_type": "execute_result",
          "data": {
            "text/plain": [
              "[('computers', 0.9165045022964478),\n",
              " ('software', 0.8814992904663086),\n",
              " ('technology', 0.852556049823761),\n",
              " ('electronic', 0.812586784362793),\n",
              " ('internet', 0.8060455322265625),\n",
              " ('computing', 0.802603542804718),\n",
              " ('devices', 0.8016185760498047),\n",
              " ('digital', 0.7991793751716614),\n",
              " ('applications', 0.7912740707397461),\n",
              " ('pc', 0.7883159518241882)]"
            ]
          },
          "metadata": {},
          "execution_count": 14
        }
      ]
    },
    {
      "cell_type": "code",
      "source": [],
      "metadata": {
        "id": "r2k4WyV1MF7n"
      },
      "execution_count": null,
      "outputs": []
    }
  ]
}